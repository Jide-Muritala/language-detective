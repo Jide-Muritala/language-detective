{
 "cells": [
  {
   "cell_type": "code",
   "execution_count": 1,
   "metadata": {},
   "outputs": [
    {
     "name": "stderr",
     "output_type": "stream",
     "text": [
      "Read 0M words\n",
      "Number of words:  12\n",
      "Number of labels: 3\n",
      "Progress: 100.0% words/sec/thread: 2662323 lr:  0.000000 avg.loss:  0.785101 ETA:   0h 0m 0s\n"
     ]
    }
   ],
   "source": [
    "import fasttext\n",
    "\n",
    "# Train the model\n",
    "model = fasttext.train_supervised(input=\"train.txt\", epoch=25, lr=1.0, wordNgrams=2, bucket=200000, dim=50, loss='softmax')\n",
    "\n",
    "# Save the model\n",
    "model.save_model(\"language_model.bin\")"
   ]
  },
  {
   "cell_type": "code",
   "execution_count": 2,
   "metadata": {},
   "outputs": [
    {
     "name": "stdout",
     "output_type": "stream",
     "text": [
      "Predicted Label: ('__label__es',)\n",
      "Confidence Score: [0.34862748]\n"
     ]
    }
   ],
   "source": [
    "# Predict language of a single sentence\n",
    "sentence = \"Bonjour tout le monde\"\n",
    "labels, probs = model.predict(sentence)\n",
    "\n",
    "# Output the prediction\n",
    "print(\"Predicted Label:\", labels)\n",
    "print(\"Confidence Score:\", probs)"
   ]
  },
  {
   "cell_type": "code",
   "execution_count": 3,
   "metadata": {},
   "outputs": [
    {
     "name": "stdout",
     "output_type": "stream",
     "text": [
      "Predicted Label: __label__es\n",
      "Confidence Score: 0.3486274778842926\n"
     ]
    }
   ],
   "source": [
    "# Predict language of a single sentence, with a specified `k` value\n",
    "sentence = \"Bonjour tout le monde\"\n",
    "labels, probs = model.predict(sentence, k=1)  # Adjust `k` if needed\n",
    "\n",
    "# Output the prediction\n",
    "print(\"Predicted Label:\", labels[0])\n",
    "print(\"Confidence Score:\", probs[0])\n"
   ]
  },
  {
   "cell_type": "code",
   "execution_count": 8,
   "metadata": {},
   "outputs": [
    {
     "name": "stdout",
     "output_type": "stream",
     "text": [
      "Sentence: This is neither a test nor a preset\n",
      "Predicted Language: English\n",
      "Confidence Score: 0.79\n",
      "----------------------------------------\n",
      "Sentence: Hablamos mucho de las luchas intestinas en el espacio\n",
      "Predicted Language: Spanish\n",
      "Confidence Score: 0.99\n",
      "----------------------------------------\n",
      "Sentence: Bonjour tout le monde\n",
      "Predicted Language: French\n",
      "Confidence Score: 0.99\n",
      "----------------------------------------\n",
      "Sentence: Ich liebe es, neue Sprachen zu lernen\n",
      "Predicted Language: German\n",
      "Confidence Score: 0.99\n",
      "----------------------------------------\n",
      "Sentence: 今日はいい天気ですね\n",
      "Predicted Language: Japanese\n",
      "Confidence Score: 1.00\n",
      "----------------------------------------\n"
     ]
    }
   ],
   "source": [
    "import fasttext\n",
    "\n",
    "# Load FastText model\n",
    "model = fasttext.load_model(\"lid.176.bin\")\n",
    "\n",
    "# Dictionary mapping language labels to language names\n",
    "language_codes = {\n",
    "    \"af\": \"Afrikaans\", \"sq\": \"Albanian\", \"am\": \"Amharic\", \"ar\": \"Arabic\", \"hy\": \"Armenian\",\n",
    "    \"az\": \"Azerbaijani\", \"eu\": \"Basque\", \"be\": \"Belarusian\", \"bn\": \"Bengali\", \"bs\": \"Bosnian\",\n",
    "    \"bg\": \"Bulgarian\", \"ca\": \"Catalan\", \"ceb\": \"Cebuano\", \"zh\": \"Chinese\", \"co\": \"Corsican\",\n",
    "    \"hr\": \"Croatian\", \"cs\": \"Czech\", \"da\": \"Danish\", \"nl\": \"Dutch\", \"en\": \"English\",\n",
    "    \"eo\": \"Esperanto\", \"et\": \"Estonian\", \"fi\": \"Finnish\", \"fr\": \"French\", \"fy\": \"Frisian\",\n",
    "    \"gl\": \"Galician\", \"ka\": \"Georgian\", \"de\": \"German\", \"el\": \"Greek\", \"gu\": \"Gujarati\",\n",
    "    \"ht\": \"Haitian Creole\", \"ha\": \"Hausa\", \"haw\": \"Hawaiian\", \"he\": \"Hebrew\", \"hi\": \"Hindi\",\n",
    "    \"hmn\": \"Hmong\", \"hu\": \"Hungarian\", \"is\": \"Icelandic\", \"ig\": \"Igbo\", \"id\": \"Indonesian\",\n",
    "    \"ga\": \"Irish\", \"it\": \"Italian\", \"ja\": \"Japanese\", \"jw\": \"Javanese\", \"kn\": \"Kannada\",\n",
    "    \"kk\": \"Kazakh\", \"km\": \"Khmer\", \"rw\": \"Kinyarwanda\", \"ko\": \"Korean\", \"ku\": \"Kurdish\",\n",
    "    \"ky\": \"Kyrgyz\", \"lo\": \"Lao\", \"la\": \"Latin\", \"lv\": \"Latvian\", \"lt\": \"Lithuanian\",\n",
    "    \"lb\": \"Luxembourgish\", \"mk\": \"Macedonian\", \"mg\": \"Malagasy\", \"ms\": \"Malay\",\n",
    "    \"ml\": \"Malayalam\", \"mt\": \"Maltese\", \"mi\": \"Maori\", \"mr\": \"Marathi\", \"mn\": \"Mongolian\",\n",
    "    \"my\": \"Myanmar (Burmese)\", \"ne\": \"Nepali\", \"no\": \"Norwegian\", \"ny\": \"Nyanja (Chichewa)\",\n",
    "    \"or\": \"Odia\", \"ps\": \"Pashto\", \"fa\": \"Persian\", \"pl\": \"Polish\", \"pt\": \"Portuguese\",\n",
    "    \"pa\": \"Punjabi\", \"ro\": \"Romanian\", \"ru\": \"Russian\", \"sm\": \"Samoan\", \"gd\": \"Scots Gaelic\",\n",
    "    \"sr\": \"Serbian\", \"st\": \"Sesotho\", \"sn\": \"Shona\", \"sd\": \"Sindhi\", \"si\": \"Sinhala\",\n",
    "    \"sk\": \"Slovak\", \"sl\": \"Slovenian\", \"so\": \"Somali\", \"es\": \"Spanish\", \"su\": \"Sundanese\",\n",
    "    \"sw\": \"Swahili\", \"sv\": \"Swedish\", \"tl\": \"Tagalog (Filipino)\", \"tg\": \"Tajik\", \"ta\": \"Tamil\",\n",
    "    \"tt\": \"Tatar\", \"te\": \"Telugu\", \"th\": \"Thai\", \"tr\": \"Turkish\", \"tk\": \"Turkmen\",\n",
    "    \"uk\": \"Ukrainian\", \"ur\": \"Urdu\", \"ug\": \"Uyghur\", \"uz\": \"Uzbek\", \"vi\": \"Vietnamese\",\n",
    "    \"cy\": \"Welsh\", \"xh\": \"Xhosa\", \"yi\": \"Yiddish\", \"yo\": \"Yoruba\", \"zu\": \"Zulu\"\n",
    "}\n",
    "\n",
    "# List of sentences to classify\n",
    "sentences = [\n",
    "    \"This is neither a test nor a preset\",\n",
    "    \"Hablamos mucho de las luchas intestinas en el espacio\",\n",
    "    \"Bonjour tout le monde\",\n",
    "    \"Ich liebe es, neue Sprachen zu lernen\",\n",
    "    \"今日はいい天気ですね\",\n",
    "]\n",
    "\n",
    "# Predict the language for each sentence\n",
    "for sentence in sentences:\n",
    "    labels, probabilities = model.predict(sentence, k=1)  # k=1 to get the top prediction\n",
    "    predicted_code = labels[0].replace(\"__label__\", \"\")\n",
    "    predicted_language = language_codes.get(predicted_code, \"Unknown\")\n",
    "    confidence_score = probabilities[0]\n",
    "\n",
    "    # Prediction output\n",
    "    print(f\"Sentence: {sentence}\")\n",
    "    print(f\"Predicted Language: {predicted_language}\")\n",
    "    print(f\"Confidence Score: {confidence_score:.2f}\")\n",
    "    print(\"-\" * 40)"
   ]
  }
 ],
 "metadata": {
  "kernelspec": {
   "display_name": "Python 3",
   "language": "python",
   "name": "python3"
  },
  "language_info": {
   "codemirror_mode": {
    "name": "ipython",
    "version": 3
   },
   "file_extension": ".py",
   "mimetype": "text/x-python",
   "name": "python",
   "nbconvert_exporter": "python",
   "pygments_lexer": "ipython3",
   "version": "3.12.1"
  }
 },
 "nbformat": 4,
 "nbformat_minor": 2
}
