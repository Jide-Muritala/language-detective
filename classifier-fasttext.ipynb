{
 "cells": [
  {
   "cell_type": "code",
   "execution_count": 1,
   "metadata": {},
   "outputs": [
    {
     "name": "stderr",
     "output_type": "stream",
     "text": [
      "Read 0M words\n",
      "Number of words:  12\n",
      "Number of labels: 3\n",
      "Progress: 100.0% words/sec/thread: 2662323 lr:  0.000000 avg.loss:  0.785101 ETA:   0h 0m 0s\n"
     ]
    }
   ],
   "source": [
    "import fasttext\n",
    "\n",
    "# Train the model\n",
    "model = fasttext.train_supervised(input=\"train.txt\", epoch=25, lr=1.0, wordNgrams=2, bucket=200000, dim=50, loss='softmax')\n",
    "\n",
    "# Save the model\n",
    "model.save_model(\"language_model.bin\")"
   ]
  },
  {
   "cell_type": "code",
   "execution_count": 2,
   "metadata": {},
   "outputs": [
    {
     "name": "stdout",
     "output_type": "stream",
     "text": [
      "Predicted Label: ('__label__es',)\n",
      "Confidence Score: [0.34862748]\n"
     ]
    }
   ],
   "source": [
    "# Predict language of a single sentence\n",
    "sentence = \"Bonjour tout le monde\"\n",
    "labels, probs = model.predict(sentence)\n",
    "\n",
    "# Output the prediction\n",
    "print(\"Predicted Label:\", labels)\n",
    "print(\"Confidence Score:\", probs)"
   ]
  },
  {
   "cell_type": "code",
   "execution_count": 3,
   "metadata": {},
   "outputs": [
    {
     "name": "stdout",
     "output_type": "stream",
     "text": [
      "Predicted Label: __label__es\n",
      "Confidence Score: 0.3486274778842926\n"
     ]
    }
   ],
   "source": [
    "# Predict language of a single sentence, with a specified `k` value\n",
    "sentence = \"Bonjour tout le monde\"\n",
    "labels, probs = model.predict(sentence, k=1)  # Adjust `k` if needed\n",
    "\n",
    "# Output the prediction\n",
    "print(\"Predicted Label:\", labels[0])\n",
    "print(\"Confidence Score:\", probs[0])\n"
   ]
  },
  {
   "cell_type": "code",
   "execution_count": 9,
   "metadata": {},
   "outputs": [
    {
     "name": "stdout",
     "output_type": "stream",
     "text": [
      "Predicted Label: __label__es\n",
      "Confidence Score: 0.9904099106788635\n"
     ]
    }
   ],
   "source": [
    "import fasttext\n",
    "\n",
    "# Load the FastText model or train a new one if needed\n",
    "model = fasttext.load_model(\"lid.176.bin\")\n",
    "\n",
    "# Example of predicting the language of a sentence\n",
    "sentence = \"Hablamos mucho de las luchas intestinas en el espacio\"\n",
    "labels, probabilities = model.predict(sentence, k=1)  # k=1 to get top prediction\n",
    "\n",
    "# Output the prediction\n",
    "print(\"Predicted Label:\", labels[0])\n",
    "print(\"Confidence Score:\", probabilities[0])"
   ]
  }
 ],
 "metadata": {
  "kernelspec": {
   "display_name": "Python 3",
   "language": "python",
   "name": "python3"
  },
  "language_info": {
   "codemirror_mode": {
    "name": "ipython",
    "version": 3
   },
   "file_extension": ".py",
   "mimetype": "text/x-python",
   "name": "python",
   "nbconvert_exporter": "python",
   "pygments_lexer": "ipython3",
   "version": "3.12.1"
  }
 },
 "nbformat": 4,
 "nbformat_minor": 2
}
